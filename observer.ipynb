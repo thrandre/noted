{
 "cells": [
  {
   "cell_type": "code",
   "execution_count": null,
   "metadata": {
    "dotnet_interactive": {
     "language": "csharp"
    }
   },
   "outputs": [
    {
     "data": {
      "text/html": [
       "<div class=\"dni-plaintext\">42</div>"
      ]
     },
     "metadata": {},
     "output_type": "display_data"
    },
    {
     "data": {
      "text/html": [
       "<div class=\"dni-plaintext\">41</div>"
      ]
     },
     "metadata": {},
     "output_type": "display_data"
    },
    {
     "data": {
      "text/html": [
       "<div class=\"dni-plaintext\">40</div>"
      ]
     },
     "metadata": {},
     "output_type": "display_data"
    }
   ],
   "source": [
    "public delegate void NextDelegate<T>(T value);\n",
    "public delegate void ErrorDelegate();\n",
    "public delegate void CompleteDelegate();\n",
    "\n",
    "public class Observer<T> \n",
    "{\n",
    "    public NextDelegate<T> Next { get; init; }\n",
    "    public ErrorDelegate Error { get; init; }\n",
    "    public CompleteDelegate Complete { get; init; }\n",
    "}\n",
    "\n",
    "public class Observable<T> \n",
    "{\n",
    "    private Action<Observer<T>> _producer;\n",
    "\n",
    "    public Observable(Action<Observer<T>> producer)\n",
    "    {\n",
    "        _producer = producer;\n",
    "    }\n",
    "\n",
    "    public void Subscribe(Observer<T> observer)\n",
    "    {\n",
    "        _producer(observer);\n",
    "    }\n",
    "}\n",
    "\n",
    "var observer = new Observable<int>(\n",
    "    sub => \n",
    "    {\n",
    "        sub.Next(42);\n",
    "        sub.Next(41);\n",
    "        sub.Next(40);\n",
    "    });\n",
    "\n",
    "observer.Subscribe(new Observer<int> { Next = v => v.Display() });"
   ]
  }
 ],
 "metadata": {
  "kernelspec": {
   "display_name": ".NET (C#)",
   "language": "C#",
   "name": ".net-csharp"
  },
  "language_info": {
   "file_extension": ".cs",
   "mimetype": "text/x-csharp",
   "name": "C#",
   "pygments_lexer": "csharp",
   "version": "9.0"
  },
  "orig_nbformat": 4
 },
 "nbformat": 4,
 "nbformat_minor": 2
}
