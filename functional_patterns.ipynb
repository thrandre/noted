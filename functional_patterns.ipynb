{
 "cells": [
  {
   "cell_type": "markdown",
   "metadata": {},
   "source": [
    "## Functor (endofunctor)\n",
    "\n",
    "```\n",
    "f a -> f b\n",
    "```"
   ]
  },
  {
   "cell_type": "code",
   "execution_count": null,
   "metadata": {
    "dotnet_interactive": {
     "language": "csharp"
    }
   },
   "outputs": [],
   "source": [
    "public class Functor<T>\n",
    "{\n",
    "    private readonly T _value;\n",
    "    \n",
    "    public Functor(T value)\n",
    "    {\n",
    "        _value = value;\n",
    "    }\n",
    "\n",
    "    public Functor<T2> Map<T2>(Func<T, T2> fn)\n",
    "    {\n",
    "        return new Functor<T2>(fn(_value));\n",
    "    }\n",
    "}"
   ]
  },
  {
   "cell_type": "markdown",
   "metadata": {},
   "source": [
    "### IEnumerable functor"
   ]
  },
  {
   "cell_type": "code",
   "execution_count": null,
   "metadata": {
    "dotnet_interactive": {
     "language": "csharp"
    }
   },
   "outputs": [],
   "source": [
    "new List<string>() // Functor constructor/return: F(a)\n",
    "    .Select( // Map: f(a) -> f(b)\n",
    "        s => int.Parse(s) // Function: f: a -> b\n",
    "    );"
   ]
  },
  {
   "cell_type": "markdown",
   "metadata": {},
   "source": [
    "## Currying"
   ]
  },
  {
   "cell_type": "code",
   "execution_count": null,
   "metadata": {
    "dotnet_interactive": {
     "language": "fsharp"
    }
   },
   "outputs": [
    {
     "data": {
      "text/html": [
       "<div class=\"dni-plaintext\">7</div>"
      ]
     },
     "metadata": {},
     "output_type": "display_data"
    },
    {
     "data": {
      "text/html": [
       "<div class=\"dni-plaintext\">14</div>"
      ]
     },
     "metadata": {},
     "output_type": "display_data"
    }
   ],
   "source": [
    "// F# functions are curried by default\n",
    "\n",
    "let add a b = a + b\n",
    "let addMore a b c = a + b + c\n",
    "\n",
    "let add5 = add 5\n",
    "let add5_2 = (addMore 5) 2\n",
    "\n",
    "(add5 2).Display()\n",
    "(add5_2 7).Display()"
   ]
  },
  {
   "cell_type": "code",
   "execution_count": null,
   "metadata": {
    "dotnet_interactive": {
     "language": "csharp"
    }
   },
   "outputs": [],
   "source": [
    "// Curry2..N\n",
    "public static Func<TIn2, TOut> Curry<TIn1, TIn2, TOut>(this Func<TIn1, TIn2, TOut> @this, TIn1 value)\n",
    "{\n",
    "    return j => @this(value, j);\n",
    "}\n",
    "\n",
    "public static Func<TIn2, Func<TIn3, TOut>> Curry<TIn1, TIn2, TIn3, TOut>(this Func<TIn1, TIn2, TIn3, TOut> @this, TIn1 value)\n",
    "{\n",
    "    return j => k => @this(value, j, k);\n",
    "}"
   ]
  },
  {
   "cell_type": "code",
   "execution_count": null,
   "metadata": {
    "dotnet_interactive": {
     "language": "csharp"
    }
   },
   "outputs": [
    {
     "data": {
      "text/html": [
       "<div class=\"dni-plaintext\">7</div>"
      ]
     },
     "metadata": {},
     "output_type": "display_data"
    },
    {
     "data": {
      "text/html": [
       "<div class=\"dni-plaintext\">14</div>"
      ]
     },
     "metadata": {},
     "output_type": "display_data"
    }
   ],
   "source": [
    "Func<int, int, int> Add = (int a, int b) => a + b;\n",
    "Func<int, int, int, int> AddMore = (int a, int b, int c) => a + b + c;\n",
    "\n",
    "var add5 = Add.Curry(5);\n",
    "var add5_2 = AddMore.Curry(5)(2);\n",
    "\n",
    "add5(2)\n",
    "    .Display();\n",
    "add5_2(7)\n",
    "    .Display();"
   ]
  },
  {
   "cell_type": "markdown",
   "metadata": {},
   "source": [
    "## Composition"
   ]
  },
  {
   "cell_type": "code",
   "execution_count": null,
   "metadata": {
    "dotnet_interactive": {
     "language": "fsharp"
    }
   },
   "outputs": [
    {
     "data": {
      "text/html": [
       "<div class=\"dni-plaintext\">3</div>"
      ]
     },
     "metadata": {},
     "output_type": "display_data"
    }
   ],
   "source": [
    "let double n = 2 * n\n",
    "let subtractOne n = n - 1\n",
    "let nextOdd = double >> subtractOne\n",
    "\n",
    "nextOdd 2"
   ]
  },
  {
   "cell_type": "code",
   "execution_count": null,
   "metadata": {
    "dotnet_interactive": {
     "language": "csharp"
    }
   },
   "outputs": [],
   "source": [
    "// C# compose helper\n",
    "public static Func<TIn, TOut2> ComposeLeft<TIn, TOut, TOut2>(this Func<TIn, TOut> inner, Func<TOut, TOut2> outer)\n",
    "{\n",
    "    return i => outer(inner(i));\n",
    "}"
   ]
  },
  {
   "cell_type": "code",
   "execution_count": null,
   "metadata": {
    "dotnet_interactive": {
     "language": "csharp"
    }
   },
   "outputs": [
    {
     "data": {
      "text/html": [
       "<div class=\"dni-plaintext\">3</div>"
      ]
     },
     "metadata": {},
     "output_type": "display_data"
    }
   ],
   "source": [
    "Func<int, int> Double = i => 2 * i;\n",
    "Func<int, int> SubtractOne = i => i - 1;\n",
    "\n",
    "// C# composition func\n",
    "Func<int, int> NextOdd_ = i => SubtractOne(Double(i));\n",
    "\n",
    "// With composition helper\n",
    "var NextOdd = Double.ComposeLeft(SubtractOne);\n",
    "\n",
    "NextOdd(2)"
   ]
  },
  {
   "cell_type": "markdown",
   "metadata": {},
   "source": [
    "## Map/Pipelining"
   ]
  },
  {
   "cell_type": "code",
   "execution_count": null,
   "metadata": {
    "dotnet_interactive": {
     "language": "fsharp"
    }
   },
   "outputs": [
    {
     "data": {
      "text/html": [
       "<div class=\"dni-plaintext\">9</div>"
      ]
     },
     "metadata": {},
     "output_type": "display_data"
    }
   ],
   "source": [
    "let square a = a * a\n",
    "\n",
    "3 |> square\n",
    "square <| 3"
   ]
  },
  {
   "cell_type": "code",
   "execution_count": null,
   "metadata": {
    "dotnet_interactive": {
     "language": "csharp"
    }
   },
   "outputs": [],
   "source": [
    "public static TIn Tee<TIn>(this TIn @this, Action<TIn> act)\n",
    "{\n",
    "    act(@this);\n",
    "    return @this;\n",
    "}\n",
    "\n",
    "public static TIn Tee<TIn, TOut>(this TIn @this, Func<TIn, TOut> act)\n",
    "{\n",
    "    act(@this);\n",
    "    return @this;\n",
    "}\n",
    "\n",
    "public static TOut Map<TIn, TOut>(this TIn @this, Func<TIn, TOut> fn)\n",
    "{\n",
    "    return fn(@this);\n",
    "}"
   ]
  },
  {
   "cell_type": "code",
   "execution_count": null,
   "metadata": {
    "dotnet_interactive": {
     "language": "csharp"
    }
   },
   "outputs": [
    {
     "data": {
      "text/html": [
       "<div class=\"dni-plaintext\">9</div>"
      ]
     },
     "metadata": {},
     "output_type": "display_data"
    }
   ],
   "source": [
    "Func<int, int> Square = i => i * i;\n",
    "\n",
    "3.Map(Square)"
   ]
  },
  {
   "cell_type": "markdown",
   "metadata": {},
   "source": [
    "## State machines"
   ]
  },
  {
   "cell_type": "code",
   "execution_count": null,
   "metadata": {
    "dotnet_interactive": {
     "language": "csharp"
    }
   },
   "outputs": [
    {
     "data": {
      "text/html": [
       "<div><div></div><div></div><div><strong>Installed Packages</strong><ul><li><span>OneOf, 3.0.205</span></li></ul></div></div>"
      ]
     },
     "metadata": {},
     "output_type": "display_data"
    },
    {
     "data": {
      "text/plain": [
       "Off hook"
      ]
     },
     "metadata": {},
     "output_type": "display_data"
    }
   ],
   "source": [
    "#r \"nuget: OneOf, 3.0.205\"\n",
    "\n",
    "public class PhoneCall\n",
    "{\n",
    "    public class State \n",
    "    {\n",
    "        public record Idle(Data.StateData Data);\n",
    "        public record OffHook(Data.StateData Data);\n",
    "        public record Ringing(Data.StateData Data);\n",
    "        public record Connected(Data.StateData Data);\n",
    "        public record OnHold(Data.StateData Data);\n",
    "        public record PhoneDestroyed();\n",
    "        \n",
    "        public class ConnectedSum : OneOf.OneOfBase<Connected, OnHold>\n",
    "        {\n",
    "            public ConnectedSum(OneOf.OneOf<Connected, OnHold> _) : base(_) {}\n",
    "            public static implicit operator ConnectedSum(Connected _) => new ConnectedSum(_);\n",
    "            public static implicit operator ConnectedSum(OnHold _) => new ConnectedSum(_);\n",
    "        }\n",
    "\n",
    "        public class Sum : OneOf.OneOfBase<Idle, OffHook, Ringing, ConnectedSum, PhoneDestroyed>\n",
    "        {\n",
    "            public Sum(OneOf.OneOf<Idle, OffHook, Ringing, ConnectedSum, PhoneDestroyed> _) : base(_) {}\n",
    "            public static implicit operator Sum(Idle _) => new Sum(_);\n",
    "            public static implicit operator Sum(OffHook _) => new Sum(_);\n",
    "            public static implicit operator Sum(Ringing _) => new Sum(_);\n",
    "            public static implicit operator Sum(ConnectedSum _) => new Sum(_);\n",
    "            public static implicit operator Sum(PhoneDestroyed _) => new Sum(_);\n",
    "        }\n",
    "    }\n",
    "\n",
    "    public class Input\n",
    "    {\n",
    "        public record PhoneNumber(string Value);\n",
    "        public record ConnectedDateTime(DateTime Value);\n",
    "        public record CallDuration(TimeSpan Value);\n",
    "        public record Message(string Value);\n",
    "    }\n",
    "\n",
    "    public class Data\n",
    "    {      \n",
    "        public record DialedData(Input.PhoneNumber PhoneNumber);\n",
    "        public record ConnectedData(Input.PhoneNumber PhoneNumber, Input.ConnectedDateTime Connected);\n",
    "        public record LeftMessageData(Input.PhoneNumber PhoneNumber, Input.ConnectedDateTime Connected, Input.Message Message);\n",
    "        public class CallData : OneOf.OneOfBase<OneOf.Types.None, DialedData, ConnectedData, LeftMessageData>\n",
    "        {\n",
    "            public CallData(OneOf.OneOf<OneOf.Types.None, DialedData, ConnectedData, LeftMessageData> _) : base(_) {}\n",
    "            public static implicit operator CallData(OneOf.Types.None _) => new CallData(_);\n",
    "            public static implicit operator CallData(DialedData _) => new CallData(_);\n",
    "            public static implicit operator CallData(ConnectedData _) => new CallData(_);\n",
    "            public static implicit operator CallData(LeftMessageData _) => new CallData(_);\n",
    "        }\n",
    "\n",
    "        public record StateData(List<CallData> Summary, CallData Current);\n",
    "    }\n",
    "    \n",
    "    public static State.Idle Return() => new State.Idle(new Data.StateData(new List<Data.CallData>(), new OneOf.Types.None()));\n",
    "    \n",
    "    public static State.OffHook PickUp(State.Idle idleState) => new State.OffHook(idleState.Data);\n",
    "    \n",
    "    public static State.Ringing Dial(State.OffHook offHookState, Input.PhoneNumber phoneNumber) =>\n",
    "        new State.Ringing(offHookState.Data with { \n",
    "            Current = new Data.DialedData(phoneNumber) });\n",
    "    \n",
    "    public static State.Connected CallConnected(State.Ringing ringingState) =>\n",
    "        new State.Connected(ringingState.Data with {\n",
    "            Current = new Data.ConnectedData(\n",
    "                ringingState.Data.Current.AsT1.PhoneNumber,\n",
    "                new Input.ConnectedDateTime(DateTime.Now)) });\n",
    "    \n",
    "    public static State.OnHold PlacedOnHold(State.Connected connectedState) => new State.OnHold(connectedState.Data);\n",
    "    \n",
    "    public static State.Connected TakenOffHold(State.OnHold onHoldState) => new State.Connected(onHoldState.Data);\n",
    "    \n",
    "    public static State.OffHook LeftMessage(State.Connected connectedState, Input.Message message) =>\n",
    "        CallDisconnected(new State.Connected(connectedState.Data with {\n",
    "            Current = new Data.LeftMessageData(\n",
    "                connectedState.Data.Current.AsT2.PhoneNumber,\n",
    "                connectedState.Data.Current.AsT2.Connected,\n",
    "                message) }));\n",
    "    \n",
    "    public static State.OffHook CallDisconnected(State.Connected connectedState) => new State.OffHook(connectedState.Data);\n",
    "    \n",
    "    public static State.PhoneDestroyed PhoneHurledAgainstWall(OneOf.OneOf<State.OffHook, State.Ringing, State.Connected, State.OnHold> states) => new State.PhoneDestroyed();    \n",
    "\n",
    "    public static State.Sum GetState(State.Sum state) => state;\n",
    "}\n",
    "\n",
    "PhoneCall\n",
    "    .Return()\n",
    "    .Map(call => PhoneCall.PickUp(call))\n",
    "    .Map(call => PhoneCall.Dial(call, new PhoneCall.Input.PhoneNumber(\"+123\")))\n",
    "    .Map(call => PhoneCall.CallConnected(call))\n",
    "    .Map(call => PhoneCall.LeftMessage(call, new PhoneCall.Input.Message(\"Please respond.\")))\n",
    "    .Map(call => PhoneCall.GetState(call))\n",
    "    .Match(\n",
    "        idle => \"Idle\",\n",
    "        offHook => \"Off hook\",\n",
    "        ringing => \"Ringing\",\n",
    "        connected => \"Connected\",\n",
    "        phoneDestroyed => \"Phone destroyed\"\n",
    "    )\n",
    "    .Display();"
   ]
  },
  {
   "cell_type": "code",
   "execution_count": null,
   "metadata": {
    "dotnet_interactive": {
     "language": "csharp"
    }
   },
   "outputs": [
    {
     "data": {
      "text/html": [
       "<div class=\"dni-plaintext\">Submission#3+Functor`1[System.Int32]</div>"
      ]
     },
     "metadata": {},
     "output_type": "display_data"
    }
   ],
   "source": [
    "new Functor<int>(2).Map(i => i * 2).Display();"
   ]
  }
 ],
 "metadata": {
  "kernelspec": {
   "display_name": ".NET (C#)",
   "language": "C#",
   "name": ".net-csharp"
  },
  "language_info": {
   "name": "C#"
  }
 },
 "nbformat": 4,
 "nbformat_minor": 2
}
