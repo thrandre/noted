{
 "cells": [
  {
   "cell_type": "code",
   "execution_count": null,
   "metadata": {
    "dotnet_interactive": {
     "language": "csharp"
    }
   },
   "outputs": [],
   "source": [
    "// ReFit GetAll: Func<Task<IEnumerable<TEntity>>>;\n",
    "// ReFit Get: Func<TKey, Task<TEntity>>;\n",
    "\n",
    "public interface UserApi\n",
    "{\n",
    "    Task<User> Get(UserId id);\n",
    "}\n",
    "\n",
    "public class DataStore\n",
    "{\n",
    "    public static DataStore<TEntity> For<TEntity>() where TEntity : class\n",
    "    {\n",
    "        return new DataStore<TEntity>();\n",
    "    }\n",
    "}\n",
    "\n",
    "public class DataStore<TEntity> where TEntity : class\n",
    "{\n",
    "    public Task<IEnumerable<TEntity>> Query(Func<Task<IEnumerable<TEntity>>> fetch, params string[] queryName)\n",
    "    {\n",
    "        return fetch();\n",
    "    }\n",
    "}\n",
    "\n",
    "public class UserApiQueries\n",
    "{\n",
    "    public static Func<UserId, Task<IEnumerable<User>>> GetById => @params => Task.FromResult(new [] {new User(\"Thomas\")}.AsEnumerable());\n",
    "}\n",
    "\n",
    "public class Q\n",
    "{\n",
    "    public static Func<UserId, (string, Task<IEnumerable<User>>)> GetById => @params => (nameof(GetById), Task.FromResult<IEnumerable<User>>(null));\n",
    "}\n",
    "\n",
    "public record Identifiable<TId, TData>(TId Id, TData Data);\n",
    "\n",
    "public record UserId(Guid Value);\n",
    "public record User(string FirstName);\n",
    "\n",
    "await DataStore.For<User>().Query(() => UserApiQueries.GetById(null), nameof(UserApiQueries.GetById));"
   ]
  }
 ],
 "metadata": {
  "kernelspec": {
   "display_name": ".NET (C#)",
   "language": "C#",
   "name": ".net-csharp"
  },
  "language_info": {
   "file_extension": ".cs",
   "mimetype": "text/x-csharp",
   "name": "C#",
   "pygments_lexer": "csharp",
   "version": "9.0"
  },
  "orig_nbformat": 4
 },
 "nbformat": 4,
 "nbformat_minor": 2
}
