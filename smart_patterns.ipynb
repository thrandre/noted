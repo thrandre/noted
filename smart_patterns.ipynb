{
 "cells": [
  {
   "cell_type": "markdown",
   "metadata": {
    "dotnet_interactive": {
     "language": "csharp"
    }
   },
   "source": [
    "# Smart patterns"
   ]
  },
  {
   "cell_type": "markdown",
   "metadata": {},
   "source": [
    "## Identifiable"
   ]
  },
  {
   "cell_type": "code",
   "execution_count": null,
   "metadata": {
    "dotnet_interactive": {
     "language": "csharp"
    }
   },
   "outputs": [
    {
     "data": {
      "text/html": [
       "<table><thead><tr><th>Id</th><th>Data</th></tr></thead><tbody><tr><td><div class=\"dni-plaintext\">abc-123</div></td><td><div class=\"dni-plaintext\">{ Submission#9+User: FirstName: Mark, LastName: Seemann }</div></td></tr></tbody></table>"
      ]
     },
     "metadata": {},
     "output_type": "display_data"
    }
   ],
   "source": [
    "public record Identifiable<T>(string Id, T Data);\n",
    "\n",
    "public class User\n",
    "{\n",
    "    public string FirstName { get; set; }\n",
    "    public string LastName { get; set; }\n",
    "}\n",
    "\n",
    "var createUser = new User { FirstName = \"Mark\", LastName = \"Seemann\" };\n",
    "var createdUser = new Identifiable<User>(\"abc-123\", createUser);\n",
    "\n",
    "createdUser.Display();"
   ]
  },
  {
   "cell_type": "markdown",
   "metadata": {},
   "source": [
    "## Strongly typed IDs"
   ]
  },
  {
   "cell_type": "code",
   "execution_count": null,
   "metadata": {
    "dotnet_interactive": {
     "language": "csharp"
    }
   },
   "outputs": [
    {
     "data": {
      "text/html": [
       "<div class=\"dni-plaintext\">False</div>"
      ]
     },
     "metadata": {},
     "output_type": "display_data"
    }
   ],
   "source": [
    "public record UserId(Guid Value)\n",
    "{ \n",
    "    public static UserId New() => new UserId(new Guid());\n",
    "}\n",
    "\n",
    "public record OrderId(Guid Value)\n",
    "{\n",
    "    public static OrderId New() => new OrderId(new Guid());\n",
    "}\n",
    "\n",
    "var userId = new UserId(Guid.Parse(\"723751e6-c4fd-4671-8c58-a19a926a7feb\"));\n",
    "var orderId = new OrderId(Guid.Parse(\"723751e6-c4fd-4671-8c58-a19a926a7feb\"));\n",
    "\n",
    "userId.Equals(orderId)"
   ]
  }
 ],
 "metadata": {
  "kernelspec": {
   "display_name": ".NET (C#)",
   "language": "C#",
   "name": ".net-csharp"
  },
  "language_info": {
   "file_extension": ".cs",
   "mimetype": "text/x-csharp",
   "name": "C#",
   "pygments_lexer": "csharp",
   "version": "9.0"
  },
  "orig_nbformat": 4
 },
 "nbformat": 4,
 "nbformat_minor": 2
}
