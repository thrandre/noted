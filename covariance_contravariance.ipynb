{
 "cells": [
  {
   "cell_type": "markdown",
   "metadata": {},
   "source": [
    "# Covariance and contravariance"
   ]
  },
  {
   "cell_type": "code",
   "execution_count": null,
   "metadata": {
    "dotnet_interactive": {
     "language": "csharp"
    }
   },
   "outputs": [],
   "source": [
    "public class Animal\n",
    "{\n",
    "    public int Id { get; set; }\n",
    "}\n",
    "\n",
    "public abstract class AnimalShelter\n",
    "{\n",
    "    public abstract Animal GetAnimal();\n",
    "    public abstract void PutAnimal(Animal animal);\n",
    "}"
   ]
  },
  {
   "cell_type": "code",
   "execution_count": null,
   "metadata": {
    "dotnet_interactive": {
     "language": "csharp"
    }
   },
   "outputs": [],
   "source": [
    "public class Cat : Animal\n",
    "{\n",
    "}"
   ]
  },
  {
   "cell_type": "markdown",
   "metadata": {},
   "source": [
    "## Covariance / out"
   ]
  },
  {
   "cell_type": "code",
   "execution_count": null,
   "metadata": {
    "dotnet_interactive": {
     "language": "csharp"
    }
   },
   "outputs": [
    {
     "ename": "Error",
     "evalue": "(10,26): error CS0115: 'CatShelter.PutAnimal(Cat)': no suitable method found to override\n(1,14): error CS0534: 'CatShelter' does not implement inherited abstract member 'AnimalShelter.PutAnimal(Animal)'",
     "output_type": "error",
     "traceback": [
      "(10,26): error CS0115: 'CatShelter.PutAnimal(Cat)': no suitable method found to override\n",
      "(1,14): error CS0534: 'CatShelter' does not implement inherited abstract member 'AnimalShelter.PutAnimal(Animal)'"
     ]
    }
   ],
   "source": [
    "public class CatShelter : AnimalShelter\n",
    "{\n",
    "    // Covariant return type (C# > 9.0 - type safe)\n",
    "    public override Cat GetAnimal() \n",
    "    {\n",
    "        return new Cat();\n",
    "    }\n",
    "\n",
    "    // Covariant parameter (parameter type narrowing - not supported, not type safe)\n",
    "    public override void PutAnimal(Cat cat)\n",
    "    {\n",
    "    }\n",
    "}"
   ]
  },
  {
   "cell_type": "markdown",
   "metadata": {},
   "source": [
    "## Contravariance / in"
   ]
  },
  {
   "cell_type": "code",
   "execution_count": null,
   "metadata": {
    "dotnet_interactive": {
     "language": "csharp"
    }
   },
   "outputs": [
    {
     "ename": "Error",
     "evalue": "(7,28): error CS0508: 'DogShelter.GetAnimal()': return type must be 'Animal' to match overridden member 'AnimalShelter.GetAnimal()'\n(13,26): error CS0115: 'DogShelter.PutAnimal(object)': no suitable method found to override\n(5,14): error CS0534: 'DogShelter' does not implement inherited abstract member 'AnimalShelter.PutAnimal(Animal)'",
     "output_type": "error",
     "traceback": [
      "(7,28): error CS0508: 'DogShelter.GetAnimal()': return type must be 'Animal' to match overridden member 'AnimalShelter.GetAnimal()'\n",
      "(13,26): error CS0115: 'DogShelter.PutAnimal(object)': no suitable method found to override\n",
      "(5,14): error CS0534: 'DogShelter' does not implement inherited abstract member 'AnimalShelter.PutAnimal(Animal)'"
     ]
    }
   ],
   "source": [
    "public class Dog\n",
    "{\n",
    "}\n",
    "\n",
    "public class DogShelter : AnimalShelter\n",
    "{\n",
    "    public override object GetAnimal() \n",
    "    {\n",
    "        return new Dog();\n",
    "    }\n",
    "\n",
    "    // Contravariant parameter type e.g wider (not supported, but type safe)\n",
    "    public override void PutAnimal(object dog)\n",
    "    {\n",
    "    }\n",
    "}"
   ]
  },
  {
   "cell_type": "markdown",
   "metadata": {},
   "source": [
    "## Parametric polymorphism / Generics\n",
    "\n",
    "- Polymorphic constructors"
   ]
  },
  {
   "cell_type": "code",
   "execution_count": null,
   "metadata": {
    "dotnet_interactive": {
     "language": "csharp"
    }
   },
   "outputs": [],
   "source": [
    "// TAnimal is invariant, but constrained\n",
    "public abstract class Shelter<TAnimal> where TAnimal : Animal\n",
    "{\n",
    "    public abstract TAnimal GetAnimal();\n",
    "    public abstract void PutAnimal(TAnimal animal);\n",
    "}\n",
    "\n",
    "public class Rabbit : Animal {}\n",
    "\n",
    "public class RabbitShelter : Shelter<Rabbit> \n",
    "{\n",
    "    public override Rabbit GetAnimal()\n",
    "    {\n",
    "        return new Rabbit();\n",
    "    }\n",
    "\n",
    "    public override void PutAnimal(Rabbit rabbit)\n",
    "    {\n",
    "    }\n",
    "}"
   ]
  },
  {
   "cell_type": "markdown",
   "metadata": {
    "dotnet_interactive": {
     "language": "csharp"
    }
   },
   "source": [
    "### Variance"
   ]
  },
  {
   "cell_type": "code",
   "execution_count": null,
   "metadata": {
    "dotnet_interactive": {
     "language": "csharp"
    }
   },
   "outputs": [],
   "source": [
    "// IEnumerable<out T> - covariant on T\n",
    "var dogs = (new [] { new Rabbit() }).AsEnumerable();\n",
    "\n",
    "// IEnumerable of Dog, is IEnumerable of Animal\n",
    "IEnumerable<Animal> animals = dogs;"
   ]
  }
 ],
 "metadata": {
  "kernelspec": {
   "display_name": ".NET (C#)",
   "language": "C#",
   "name": ".net-csharp"
  },
  "language_info": {
   "file_extension": ".cs",
   "mimetype": "text/x-csharp",
   "name": "C#",
   "pygments_lexer": "csharp",
   "version": "9.0"
  },
  "orig_nbformat": 4
 },
 "nbformat": 4,
 "nbformat_minor": 2
}
